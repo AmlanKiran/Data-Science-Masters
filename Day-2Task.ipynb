{
 "cells": [
  {
   "cell_type": "code",
   "execution_count": 13,
   "id": "c8445996-b483-47ea-8253-d8be94771d94",
   "metadata": {},
   "outputs": [
    {
     "name": "stdin",
     "output_type": "stream",
     "text": [
      "Enter your age 50\n"
     ]
    },
    {
     "name": "stdout",
     "output_type": "stream",
     "text": [
      "Sorry\n"
     ]
    }
   ],
   "source": [
    "age=int(input(\"Enter your age\"))\n",
    "if (age>=18 and age<=32):\n",
    "    print(\"Eligible\")\n",
    "else:\n",
    "    print(\"Sorry\")"
   ]
  },
  {
   "cell_type": "markdown",
   "id": "4581ee38-e932-422e-be96-6f9c9e18cf2a",
   "metadata": {},
   "source": [
    "Product(mall)Task"
   ]
  },
  {
   "cell_type": "code",
   "execution_count": 32,
   "id": "bb2deff9-f9c1-4758-a38b-9b0b47610f90",
   "metadata": {},
   "outputs": [
    {
     "name": "stdin",
     "output_type": "stream",
     "text": [
      "Enter Product Price 500\n"
     ]
    },
    {
     "name": "stdout",
     "output_type": "stream",
     "text": [
      "Product price is 500\n",
      "discount is 150.0\n",
      "New Product price is 350.0\n"
     ]
    }
   ],
   "source": [
    "Product_Price=int(input(\"Enter Product Price\"))\n",
    "if(Product_Price>1000):\n",
    "    print(f\"Product price is{Product_Price}\")\n",
    "    discount=Product_Price*(0.2)\n",
    "    PP=Product_Price-discount\n",
    "    print(f\"discountis{discount}\")\n",
    "    print(f\"New Product price is {PP}\")\n",
    "elif(Product_Price<=1000):\n",
    "    print(f\"Product price is {Product_Price}\")\n",
    "    disc10=Product_Price*(0.3)\n",
    "    PP=Product_Price-disc10\n",
    "    print(f\"discount is {disc10}\")\n",
    "    print(f\"New Product price is {PP}\")"
   ]
  },
  {
   "cell_type": "code",
   "execution_count": null,
   "id": "c599b47f-fe2b-4cd6-b945-b97144d7e849",
   "metadata": {},
   "outputs": [],
   "source": []
  },
  {
   "cell_type": "code",
   "execution_count": null,
   "id": "3f4a58bf-4363-4f4b-8bca-2c40175d19db",
   "metadata": {},
   "outputs": [],
   "source": []
  },
  {
   "cell_type": "code",
   "execution_count": null,
   "id": "098a11c8-d2e8-43a7-8dac-132112c74df3",
   "metadata": {},
   "outputs": [],
   "source": []
  },
  {
   "cell_type": "code",
   "execution_count": null,
   "id": "b253b9d4-7dce-4a34-8f35-67fa770bd7ae",
   "metadata": {},
   "outputs": [],
   "source": []
  },
  {
   "cell_type": "code",
   "execution_count": null,
   "id": "3a0f2897-5366-48bd-ad21-912b18df60b6",
   "metadata": {},
   "outputs": [],
   "source": []
  },
  {
   "cell_type": "code",
   "execution_count": null,
   "id": "5f985d9d-19ff-43ad-aa3a-2f3fbb93f3a5",
   "metadata": {},
   "outputs": [],
   "source": []
  }
 ],
 "metadata": {
  "kernelspec": {
   "display_name": "Python 3 (ipykernel)",
   "language": "python",
   "name": "python3"
  },
  "language_info": {
   "codemirror_mode": {
    "name": "ipython",
    "version": 3
   },
   "file_extension": ".py",
   "mimetype": "text/x-python",
   "name": "python",
   "nbconvert_exporter": "python",
   "pygments_lexer": "ipython3",
   "version": "3.10.8"
  }
 },
 "nbformat": 4,
 "nbformat_minor": 5
}
